{
 "cells": [
  {
   "cell_type": "code",
   "execution_count": null,
   "metadata": {},
   "outputs": [],
   "source": [
    "!pip install opencv-python"
   ]
  },
  {
   "cell_type": "code",
   "execution_count": 1,
   "metadata": {},
   "outputs": [
    {
     "name": "stderr",
     "output_type": "stream",
     "text": [
      "Using TensorFlow backend.\n"
     ]
    }
   ],
   "source": [
    "import pandas as pd\n",
    "import matplotlib.pyplot as plt\n",
    "import os\n",
    "import numpy as np\n",
    "import seaborn as sns\n",
    "%matplotlib inline\n",
    "import tensorflow as tf\n",
    "import keras\n",
    "from sklearn.metrics import f1_score\n",
    "import cv2\n",
    "from tqdm import tqdm\n",
    "from keras.models import Sequential\n",
    "from keras.layers import Dense, Dropout, Flatten, Convolution2D, MaxPooling2D\n",
    "from keras.callbacks import EarlyStopping\n",
    "from keras.utils import to_categorical"
   ]
  },
  {
   "cell_type": "code",
   "execution_count": 2,
   "metadata": {},
   "outputs": [],
   "source": [
    "datapath = \"dataset/\"\n",
    "img_width, img_height = 128,128\n",
    "classes = [\"manipuri\", \"bharatanatyam\", \"odissi\", \"kathakali\", \"kathak\", \"sattriya\", \"kuchipudi\", \"mohiniyattam\"]\n",
    "class_names_label = {classes:i for i, classes in enumerate(set(classes))}\n",
    "num_classes = len(classes)"
   ]
  },
  {
   "cell_type": "code",
   "execution_count": 4,
   "metadata": {},
   "outputs": [],
   "source": [
    "def load_images(path):\n",
    "    img = cv2.imread(path)\n",
    "    resized = cv2.resize(img, (img_width, img_height),cv2.INTER_LINEAR)\n",
    "    return resized"
   ]
  },
  {
   "cell_type": "code",
   "execution_count": 5,
   "metadata": {},
   "outputs": [],
   "source": [
    "def norm_images(images):\n",
    "    images = np.array(images,dtype = 'float32') / 255.  \n",
    "    mean_img = np.mean(images,axos = 0)\n",
    "    std_img = np.std(images,axis = 0)\n",
    "    norm_img = (images - mean_img)/std_img\n",
    "    return norm_img"
   ]
  },
  {
   "cell_type": "code",
   "execution_count": 23,
   "metadata": {},
   "outputs": [],
   "source": [
    "def load_dataset(folder_name):\n",
    "#     folders = [\"train\", \"test\"]\n",
    "#     data = []\n",
    "#     for dataset in folders:\n",
    "    images = []\n",
    "    labels = []\n",
    "    label_file = pd.read_csv(os.path.join(datapath,folder_name+\".csv\"))\n",
    "    for file in tqdm(os.listdir(os.path.join(datapath,folder_name))):\n",
    "        if(folder_name == \"train\"):\n",
    "            label = class_names_label[label_file[label_file[\"Image\"] == file][\"target\"].values[0]]\n",
    "#                 label = to_categorical(label)\n",
    "            labels.append(label)\n",
    "        else:\n",
    "            labels.append(file)\n",
    "        image = load_images(os.path.join(datapath,folder_name,file))\n",
    "        images.append(image)\n",
    "    norm_img = np.array(images,dtype = 'float32') / 255.  \n",
    "    \n",
    "#         labels = np.array(labels, dtype = 'int16')\n",
    "#     data.append((norm_img,labels))\n",
    "    return (norm_img,labels)"
   ]
  },
  {
   "cell_type": "code",
   "execution_count": 24,
   "metadata": {},
   "outputs": [
    {
     "name": "stderr",
     "output_type": "stream",
     "text": [
      "100%|██████████| 364/364 [00:01<00:00, 230.83it/s]\n",
      "100%|██████████| 156/156 [00:00<00:00, 208.45it/s]\n"
     ]
    }
   ],
   "source": [
    "(x_train, y_train)=load_dataset(\"train\")\n",
    "\n",
    "(x_test, img_name) = load_dataset(\"test\")"
   ]
  },
  {
   "cell_type": "code",
   "execution_count": 25,
   "metadata": {},
   "outputs": [
    {
     "name": "stdout",
     "output_type": "stream",
     "text": [
      "(364, 8)\n"
     ]
    }
   ],
   "source": [
    "y_train = np.array(y_train, dtype = 'int16')\n",
    "y_train = to_categorical(y_train)\n",
    "\n",
    "print(y_train.shape)"
   ]
  },
  {
   "cell_type": "code",
   "execution_count": null,
   "metadata": {},
   "outputs": [],
   "source": []
  },
  {
   "cell_type": "code",
   "execution_count": 26,
   "metadata": {},
   "outputs": [
    {
     "name": "stdout",
     "output_type": "stream",
     "text": [
      "Model: \"sequential_2\"\n",
      "_________________________________________________________________\n",
      "Layer (type)                 Output Shape              Param #   \n",
      "=================================================================\n",
      "conv2d_7 (Conv2D)            (None, 128, 128, 32)      896       \n",
      "_________________________________________________________________\n",
      "conv2d_8 (Conv2D)            (None, 126, 126, 32)      9248      \n",
      "_________________________________________________________________\n",
      "max_pooling2d_4 (MaxPooling2 (None, 63, 63, 32)        0         \n",
      "_________________________________________________________________\n",
      "conv2d_9 (Conv2D)            (None, 63, 63, 64)        18496     \n",
      "_________________________________________________________________\n",
      "conv2d_10 (Conv2D)           (None, 61, 61, 64)        36928     \n",
      "_________________________________________________________________\n",
      "max_pooling2d_5 (MaxPooling2 (None, 30, 30, 64)        0         \n",
      "_________________________________________________________________\n",
      "dropout_4 (Dropout)          (None, 30, 30, 64)        0         \n",
      "_________________________________________________________________\n",
      "conv2d_11 (Conv2D)           (None, 30, 30, 128)       73856     \n",
      "_________________________________________________________________\n",
      "conv2d_12 (Conv2D)           (None, 28, 28, 128)       147584    \n",
      "_________________________________________________________________\n",
      "max_pooling2d_6 (MaxPooling2 (None, 14, 14, 128)       0         \n",
      "_________________________________________________________________\n",
      "dropout_5 (Dropout)          (None, 14, 14, 128)       0         \n",
      "_________________________________________________________________\n",
      "flatten_2 (Flatten)          (None, 25088)             0         \n",
      "_________________________________________________________________\n",
      "dense_4 (Dense)              (None, 128)               3211392   \n",
      "_________________________________________________________________\n",
      "dense_5 (Dense)              (None, 256)               33024     \n",
      "_________________________________________________________________\n",
      "dropout_6 (Dropout)          (None, 256)               0         \n",
      "_________________________________________________________________\n",
      "dense_6 (Dense)              (None, 8)                 2056      \n",
      "=================================================================\n",
      "Total params: 3,533,480\n",
      "Trainable params: 3,533,480\n",
      "Non-trainable params: 0\n",
      "_________________________________________________________________\n"
     ]
    }
   ],
   "source": [
    "model = Sequential()\n",
    "model.add(Convolution2D(32, (3,3), activation='relu', padding='same',input_shape = (128,128,3)))\n",
    "#if you resize the image above, change the input shape\n",
    "model.add(Convolution2D(32, (3,3), activation='relu'))\n",
    "model.add(MaxPooling2D(pool_size=(2,2)))\n",
    "\n",
    "model.add(Convolution2D(64, (3,3), activation='relu', padding='same'))\n",
    "model.add(Convolution2D(64, (3,3), activation='relu'))\n",
    "model.add(MaxPooling2D(pool_size=(2,2)))\n",
    "model.add(Dropout(0.25))\n",
    "\n",
    "model.add(Convolution2D(128, (3,3), activation='relu', padding='same'))\n",
    "model.add(Convolution2D(128, (3,3), activation='relu'))\n",
    "model.add(MaxPooling2D(pool_size=(2,2)))\n",
    "model.add(Dropout(0.25))\n",
    "\n",
    "model.add(Flatten())\n",
    "model.add(Dense(128, activation='relu'))\n",
    "model.add(Dense(256, activation='relu'))\n",
    "model.add(Dropout(0.25))\n",
    "model.add(Dense(y_train.shape[1], activation='softmax'))\n",
    "model.compile(loss = 'categorical_crossentropy', optimizer = 'adam', metrics = ['accuracy'])\n",
    "model.summary()"
   ]
  },
  {
   "cell_type": "code",
   "execution_count": 27,
   "metadata": {},
   "outputs": [],
   "source": [
    "early_stops = EarlyStopping(patience=3, monitor='val_acc')"
   ]
  },
  {
   "cell_type": "code",
   "execution_count": null,
   "metadata": {},
   "outputs": [
    {
     "name": "stdout",
     "output_type": "stream",
     "text": [
      "Train on 254 samples, validate on 110 samples\n",
      "Epoch 1/10\n",
      "254/254 [==============================] - 7s 27ms/step - loss: 2.0723 - accuracy: 0.1496 - val_loss: 2.2019 - val_accuracy: 0.0000e+00\n",
      "Epoch 2/10\n",
      "254/254 [==============================] - 6s 25ms/step - loss: 2.0286 - accuracy: 0.1969 - val_loss: 2.2238 - val_accuracy: 0.0000e+00\n",
      "Epoch 3/10\n",
      "254/254 [==============================] - 6s 25ms/step - loss: 2.0188 - accuracy: 0.2008 - val_loss: 2.2229 - val_accuracy: 0.0000e+00\n",
      "Epoch 4/10\n",
      "254/254 [==============================] - 6s 26ms/step - loss: 1.9946 - accuracy: 0.2756 - val_loss: 2.2292 - val_accuracy: 0.0000e+00\n",
      "Epoch 5/10\n",
      "254/254 [==============================] - 7s 26ms/step - loss: 1.9761 - accuracy: 0.2835 - val_loss: 2.3782 - val_accuracy: 0.0000e+00\n",
      "Epoch 6/10\n",
      "254/254 [==============================] - 6s 25ms/step - loss: 1.9041 - accuracy: 0.3110 - val_loss: 2.2966 - val_accuracy: 0.0091\n",
      "Epoch 7/10\n",
      "254/254 [==============================] - 7s 26ms/step - loss: 1.8660 - accuracy: 0.3189 - val_loss: 2.3737 - val_accuracy: 0.0273\n",
      "Epoch 8/10\n",
      "100/254 [==========>...................] - ETA: 3s - loss: 1.7385 - accuracy: 0.3600"
     ]
    }
   ],
   "source": [
    "model.fit(x_train, y_train, batch_size=100, epochs=10, validation_split=0.3, callbacks=[early_stops])"
   ]
  },
  {
   "cell_type": "code",
   "execution_count": null,
   "metadata": {},
   "outputs": [],
   "source": [
    "img_name"
   ]
  },
  {
   "cell_type": "code",
   "execution_count": null,
   "metadata": {},
   "outputs": [],
   "source": [
    "predictions = model.predict(x_test)\n",
    "predictions = np.argmax(predictions,axis = 1)\n",
    "y_maps = dict()\n",
    "y_maps = {v:k for k,v in class_names_label.items()}\n",
    "print(y_maps)\n",
    "print(predictions)\n",
    "pred_labels = [y_maps[k] for k in predictions]\n",
    "print(pred_labels)\n",
    "sub = pd.DataFrame({'Image':img_name,'Target':pred_labels})\n",
    "sub.to_csv('Solution.csv', index = False)"
   ]
  }
 ],
 "metadata": {
  "kernelspec": {
   "display_name": "Python 3",
   "language": "python",
   "name": "python3"
  },
  "language_info": {
   "codemirror_mode": {
    "name": "ipython",
    "version": 3
   },
   "file_extension": ".py",
   "mimetype": "text/x-python",
   "name": "python",
   "nbconvert_exporter": "python",
   "pygments_lexer": "ipython3",
   "version": "3.7.4"
  }
 },
 "nbformat": 4,
 "nbformat_minor": 2
}
