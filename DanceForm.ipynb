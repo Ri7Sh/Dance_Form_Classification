{
 "cells": [
  {
   "cell_type": "code",
   "execution_count": null,
   "metadata": {},
   "outputs": [],
   "source": [
    "!pip install opencv-python"
   ]
  },
  {
   "cell_type": "code",
   "execution_count": 10,
   "metadata": {},
   "outputs": [],
   "source": [
    "import pandas as pd\n",
    "import matplotlib.pyplot as plt\n",
    "import os\n",
    "import numpy as np\n",
    "import seaborn as sns\n",
    "%matplotlib inline\n",
    "import tensorflow as tf\n",
    "import keras\n",
    "from sklearn.metrics import f1_score\n",
    "import cv2\n",
    "from tqdm import tqdm\n",
    "from keras.models import Sequential\n",
    "from keras.layers import Dense, Dropout, Flatten, Convolution2D, MaxPooling2D, Input\n",
    "from keras.callbacks import EarlyStopping\n",
    "from keras.utils import to_categorical\n",
    "from keras.applications.resnet50 import ResNet50"
   ]
  },
  {
   "cell_type": "code",
   "execution_count": 16,
   "metadata": {},
   "outputs": [],
   "source": [
    "datapath = \"dataset/\"\n",
    "img_width, img_height = 224,224\n",
    "classes = [\"manipuri\", \"bharatanatyam\", \"odissi\", \"kathakali\", \"kathak\", \"sattriya\", \"kuchipudi\", \"mohiniyattam\"]\n",
    "class_names_label = {classes:i for i, classes in enumerate(set(classes))}\n",
    "num_classes = len(classes)\n",
    "resnet_weights_path = 'resnet_weights/resnet50_weights_tf_dim_ordering_tf_kernels_notop.h5'\n",
    "# resnet_weights_path = ('https://github.com/fchollet/deep-learning-models/'\n",
    "#                        'releases/download/v0.2/'\n",
    "#                        'resnet50_weights_tf_dim_ordering_tf_kernels_notop.h5')"
   ]
  },
  {
   "cell_type": "code",
   "execution_count": 19,
   "metadata": {},
   "outputs": [],
   "source": [
    "import ssl\n",
    "\n",
    "ssl._create_default_https_context = ssl._create_unverified_context"
   ]
  },
  {
   "cell_type": "code",
   "execution_count": 3,
   "metadata": {},
   "outputs": [],
   "source": [
    "def load_images(path):\n",
    "    img = cv2.imread(path)\n",
    "    resized = cv2.resize(img, (img_width, img_height),cv2.INTER_LINEAR)\n",
    "    return resized"
   ]
  },
  {
   "cell_type": "code",
   "execution_count": 4,
   "metadata": {},
   "outputs": [],
   "source": [
    "def norm_images(images):\n",
    "    images = np.array(images,dtype = 'float32') / 255.  \n",
    "    mean_img = np.mean(images,axos = 0)\n",
    "    std_img = np.std(images,axis = 0)\n",
    "    norm_img = (images - mean_img)/std_img\n",
    "    return norm_img"
   ]
  },
  {
   "cell_type": "code",
   "execution_count": 5,
   "metadata": {},
   "outputs": [],
   "source": [
    "def load_dataset(folder_name):\n",
    "#     folders = [\"train\", \"test\"]\n",
    "#     data = []\n",
    "#     for dataset in folders:\n",
    "    images = []\n",
    "    labels = []\n",
    "    label_file = pd.read_csv(os.path.join(datapath,folder_name+\".csv\"))\n",
    "    for file in tqdm(os.listdir(os.path.join(datapath,folder_name))):\n",
    "        if(folder_name == \"train\"):\n",
    "            label = class_names_label[label_file[label_file[\"Image\"] == file][\"target\"].values[0]]\n",
    "#                 label = to_categorical(label)\n",
    "            labels.append(label)\n",
    "        else:\n",
    "            labels.append(file)\n",
    "        image = load_images(os.path.join(datapath,folder_name,file))\n",
    "        images.append(image)\n",
    "    norm_img = np.array(images,dtype = 'float32') / 255.  \n",
    "    \n",
    "#         labels = np.array(labels, dtype = 'int16')\n",
    "#     data.append((norm_img,labels))\n",
    "    return (norm_img,labels)"
   ]
  },
  {
   "cell_type": "code",
   "execution_count": 6,
   "metadata": {},
   "outputs": [
    {
     "name": "stderr",
     "output_type": "stream",
     "text": [
      "100%|██████████| 364/364 [00:01<00:00, 196.70it/s]\n",
      "100%|██████████| 156/156 [00:00<00:00, 216.47it/s]\n"
     ]
    }
   ],
   "source": [
    "(x_train, y_train)=load_dataset(\"train\")\n",
    "\n",
    "(x_test, img_name) = load_dataset(\"test\")"
   ]
  },
  {
   "cell_type": "code",
   "execution_count": 7,
   "metadata": {},
   "outputs": [
    {
     "name": "stdout",
     "output_type": "stream",
     "text": [
      "(364, 8)\n"
     ]
    }
   ],
   "source": [
    "y_train = np.array(y_train, dtype = 'int16')\n",
    "y_train = to_categorical(y_train)\n",
    "\n",
    "print(y_train.shape)"
   ]
  },
  {
   "cell_type": "code",
   "execution_count": 26,
   "metadata": {},
   "outputs": [
    {
     "name": "stdout",
     "output_type": "stream",
     "text": [
      "Model: \"sequential_9\"\n",
      "_________________________________________________________________\n",
      "Layer (type)                 Output Shape              Param #   \n",
      "=================================================================\n",
      "resnet50 (Model)             (None, 2048)              23587712  \n",
      "_________________________________________________________________\n",
      "dense_2 (Dense)              (None, 8)                 16392     \n",
      "=================================================================\n",
      "Total params: 23,604,104\n",
      "Trainable params: 16,392\n",
      "Non-trainable params: 23,587,712\n",
      "_________________________________________________________________\n"
     ]
    }
   ],
   "source": [
    "model = Sequential()\n",
    "model.add(ResNet50(include_top = False, pooling = 'avg', weights = 'imagenet',input_tensor=Input(shape=(224,224,3))))\n",
    "# model.add(Dense(num_classes,activation = 'softmax'))\n",
    "\n",
    "# model.add(Convolution2D(32, (3,3), activation='relu', padding='same',input_shape = (128,128,3)))\n",
    "# #if you resize the image above, change the input shape\n",
    "# model.add(Convolution2D(32, (3,3), activation='relu'))\n",
    "# model.add(MaxPooling2D(pool_size=(2,2)))\n",
    "\n",
    "# model.add(Convolution2D(64, (3,3), activation='relu', padding='same'))\n",
    "# model.add(Convolution2D(64, (3,3), activation='relu'))\n",
    "# model.add(MaxPooling2D(pool_size=(2,2)))\n",
    "# model.add(Dropout(0.25))\n",
    "\n",
    "# model.add(Convolution2D(128, (3,3), activation='relu', padding='same'))\n",
    "# model.add(Convolution2D(128, (3,3), activation='relu'))\n",
    "# model.add(MaxPooling2D(pool_size=(2,2)))\n",
    "# model.add(Dropout(0.25))\n",
    "\n",
    "# model.add(Flatten())\n",
    "# model.add(Dense(128, activation='relu'))\n",
    "# model.add(Dense(256, activation='relu'))\n",
    "# model.add(Dropout(0.25))\n",
    "model.add(Dense(y_train.shape[1], activation='softmax'))\n",
    "model.layers[0].trainable = False\n",
    "model.compile(loss = 'categorical_crossentropy', optimizer = 'adam', metrics = ['accuracy'])\n",
    "model.summary()"
   ]
  },
  {
   "cell_type": "code",
   "execution_count": 22,
   "metadata": {},
   "outputs": [],
   "source": [
    "early_stops = EarlyStopping(patience=3, monitor='val_accuracy')"
   ]
  },
  {
   "cell_type": "code",
   "execution_count": 23,
   "metadata": {},
   "outputs": [
    {
     "name": "stdout",
     "output_type": "stream",
     "text": [
      "Train on 254 samples, validate on 110 samples\n",
      "Epoch 1/10\n",
      "254/254 [==============================] - 34s 135ms/step - loss: 2.3983 - accuracy: 0.1260 - val_loss: 2.1564 - val_accuracy: 0.2727\n",
      "Epoch 2/10\n"
     ]
    },
    {
     "name": "stderr",
     "output_type": "stream",
     "text": [
      "/usr/local/anaconda3/lib/python3.7/site-packages/keras/callbacks/callbacks.py:846: RuntimeWarning: Early stopping conditioned on metric `val_acc` which is not available. Available metrics are: val_loss,val_accuracy,loss,accuracy\n",
      "  (self.monitor, ','.join(list(logs.keys()))), RuntimeWarning\n"
     ]
    },
    {
     "name": "stdout",
     "output_type": "stream",
     "text": [
      "254/254 [==============================] - 30s 117ms/step - loss: 1.9646 - accuracy: 0.2480 - val_loss: 2.1518 - val_accuracy: 0.2091\n",
      "Epoch 3/10\n",
      "254/254 [==============================] - 30s 120ms/step - loss: 1.5954 - accuracy: 0.4370 - val_loss: 2.1567 - val_accuracy: 0.2455\n",
      "Epoch 4/10\n",
      "254/254 [==============================] - 31s 123ms/step - loss: 1.3540 - accuracy: 0.5591 - val_loss: 2.1905 - val_accuracy: 0.2455\n",
      "Epoch 5/10\n",
      "254/254 [==============================] - 30s 118ms/step - loss: 1.1325 - accuracy: 0.6732 - val_loss: 2.2673 - val_accuracy: 0.2455\n",
      "Epoch 6/10\n",
      "254/254 [==============================] - 36s 140ms/step - loss: 0.9573 - accuracy: 0.7323 - val_loss: 2.3400 - val_accuracy: 0.1727\n",
      "Epoch 7/10\n",
      "254/254 [==============================] - 36s 140ms/step - loss: 0.8322 - accuracy: 0.7953 - val_loss: 2.3936 - val_accuracy: 0.1273\n",
      "Epoch 8/10\n",
      "254/254 [==============================] - 32s 126ms/step - loss: 0.7239 - accuracy: 0.8307 - val_loss: 2.4037 - val_accuracy: 0.1273\n",
      "Epoch 9/10\n",
      "254/254 [==============================] - 32s 127ms/step - loss: 0.6268 - accuracy: 0.8858 - val_loss: 2.4170 - val_accuracy: 0.1364\n",
      "Epoch 10/10\n",
      "254/254 [==============================] - 33s 130ms/step - loss: 0.5633 - accuracy: 0.9055 - val_loss: 2.4627 - val_accuracy: 0.1273\n"
     ]
    },
    {
     "data": {
      "text/plain": [
       "<keras.callbacks.callbacks.History at 0x15457b2d0>"
      ]
     },
     "execution_count": 23,
     "metadata": {},
     "output_type": "execute_result"
    }
   ],
   "source": [
    "model.fit(x_train, y_train, batch_size=100, epochs=10, validation_split=0.3, callbacks=[early_stops])"
   ]
  },
  {
   "cell_type": "code",
   "execution_count": 24,
   "metadata": {},
   "outputs": [
    {
     "name": "stdout",
     "output_type": "stream",
     "text": [
      "{0: 'mohiniyattam', 1: 'kathak', 2: 'odissi', 3: 'sattriya', 4: 'manipuri', 5: 'kathakali', 6: 'kuchipudi', 7: 'bharatanatyam'}\n",
      "[6 6 6 7 7 7 7 7 7 7 7 7 7 7 7 7 7 7 7 7 7 7 7 7 7 7 7 7 7 7 7 7 7 7 7 6 7\n",
      " 7 7 7 7 7 7 7 7 7 7 7 7 7 7 7 7 7 7 7 7 7 7 7 7 7 7 7 7 7 7 6 7 7 7 7 6 7\n",
      " 7 6 7 7 6 7 7 7 7 7 7 6 7 7 7 7 7 7 7 7 7 7 7 7 7 7 7 7 7 7 7 6 7 7 7 7 7\n",
      " 7 7 7 7 7 7 7 7 7 7 6 7 7 7 7 7 7 7 6 7 6 7 6 7 7 7 7 6 6 7 7 6 6 7 7 7 7\n",
      " 7 7 7 7 7 6 6 7]\n",
      "['kuchipudi', 'kuchipudi', 'kuchipudi', 'bharatanatyam', 'bharatanatyam', 'bharatanatyam', 'bharatanatyam', 'bharatanatyam', 'bharatanatyam', 'bharatanatyam', 'bharatanatyam', 'bharatanatyam', 'bharatanatyam', 'bharatanatyam', 'bharatanatyam', 'bharatanatyam', 'bharatanatyam', 'bharatanatyam', 'bharatanatyam', 'bharatanatyam', 'bharatanatyam', 'bharatanatyam', 'bharatanatyam', 'bharatanatyam', 'bharatanatyam', 'bharatanatyam', 'bharatanatyam', 'bharatanatyam', 'bharatanatyam', 'bharatanatyam', 'bharatanatyam', 'bharatanatyam', 'bharatanatyam', 'bharatanatyam', 'bharatanatyam', 'kuchipudi', 'bharatanatyam', 'bharatanatyam', 'bharatanatyam', 'bharatanatyam', 'bharatanatyam', 'bharatanatyam', 'bharatanatyam', 'bharatanatyam', 'bharatanatyam', 'bharatanatyam', 'bharatanatyam', 'bharatanatyam', 'bharatanatyam', 'bharatanatyam', 'bharatanatyam', 'bharatanatyam', 'bharatanatyam', 'bharatanatyam', 'bharatanatyam', 'bharatanatyam', 'bharatanatyam', 'bharatanatyam', 'bharatanatyam', 'bharatanatyam', 'bharatanatyam', 'bharatanatyam', 'bharatanatyam', 'bharatanatyam', 'bharatanatyam', 'bharatanatyam', 'bharatanatyam', 'kuchipudi', 'bharatanatyam', 'bharatanatyam', 'bharatanatyam', 'bharatanatyam', 'kuchipudi', 'bharatanatyam', 'bharatanatyam', 'kuchipudi', 'bharatanatyam', 'bharatanatyam', 'kuchipudi', 'bharatanatyam', 'bharatanatyam', 'bharatanatyam', 'bharatanatyam', 'bharatanatyam', 'bharatanatyam', 'kuchipudi', 'bharatanatyam', 'bharatanatyam', 'bharatanatyam', 'bharatanatyam', 'bharatanatyam', 'bharatanatyam', 'bharatanatyam', 'bharatanatyam', 'bharatanatyam', 'bharatanatyam', 'bharatanatyam', 'bharatanatyam', 'bharatanatyam', 'bharatanatyam', 'bharatanatyam', 'bharatanatyam', 'bharatanatyam', 'bharatanatyam', 'bharatanatyam', 'kuchipudi', 'bharatanatyam', 'bharatanatyam', 'bharatanatyam', 'bharatanatyam', 'bharatanatyam', 'bharatanatyam', 'bharatanatyam', 'bharatanatyam', 'bharatanatyam', 'bharatanatyam', 'bharatanatyam', 'bharatanatyam', 'bharatanatyam', 'bharatanatyam', 'bharatanatyam', 'kuchipudi', 'bharatanatyam', 'bharatanatyam', 'bharatanatyam', 'bharatanatyam', 'bharatanatyam', 'bharatanatyam', 'bharatanatyam', 'kuchipudi', 'bharatanatyam', 'kuchipudi', 'bharatanatyam', 'kuchipudi', 'bharatanatyam', 'bharatanatyam', 'bharatanatyam', 'bharatanatyam', 'kuchipudi', 'kuchipudi', 'bharatanatyam', 'bharatanatyam', 'kuchipudi', 'kuchipudi', 'bharatanatyam', 'bharatanatyam', 'bharatanatyam', 'bharatanatyam', 'bharatanatyam', 'bharatanatyam', 'bharatanatyam', 'bharatanatyam', 'bharatanatyam', 'kuchipudi', 'kuchipudi', 'bharatanatyam']\n"
     ]
    }
   ],
   "source": [
    "predictions = model.predict(x_test)\n",
    "predictions = np.argmax(predictions,axis = 1)\n",
    "y_maps = dict()\n",
    "y_maps = {v:k for k,v in class_names_label.items()}\n",
    "print(y_maps)\n",
    "print(predictions)\n",
    "pred_labels = [y_maps[k] for k in predictions]\n",
    "print(pred_labels)\n",
    "sub = pd.DataFrame({'Image':img_name,'target':pred_labels})\n",
    "sub.to_csv('Solution.csv', index = False)"
   ]
  }
 ],
 "metadata": {
  "kernelspec": {
   "display_name": "Python 3",
   "language": "python",
   "name": "python3"
  },
  "language_info": {
   "codemirror_mode": {
    "name": "ipython",
    "version": 3
   },
   "file_extension": ".py",
   "mimetype": "text/x-python",
   "name": "python",
   "nbconvert_exporter": "python",
   "pygments_lexer": "ipython3",
   "version": "3.7.4"
  }
 },
 "nbformat": 4,
 "nbformat_minor": 2
}
